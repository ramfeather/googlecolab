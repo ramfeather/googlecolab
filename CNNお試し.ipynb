{
  "nbformat": 4,
  "nbformat_minor": 0,
  "metadata": {
    "accelerator": "GPU",
    "colab": {
      "name": "CNNお試し.ipynb",
      "provenance": [],
      "collapsed_sections": [],
      "authorship_tag": "ABX9TyOJFUIUVRByVnt5jLDT5suW",
      "include_colab_link": true
    },
    "kernelspec": {
      "display_name": "Python 3",
      "name": "python3"
    }
  },
  "cells": [
    {
      "cell_type": "markdown",
      "metadata": {
        "id": "view-in-github",
        "colab_type": "text"
      },
      "source": [
        "<a href=\"https://colab.research.google.com/github/ramfeather/googlecolab/blob/trial-2021-03-14/CNN%E3%81%8A%E8%A9%A6%E3%81%97.ipynb\" target=\"_parent\"><img src=\"https://colab.research.google.com/assets/colab-badge.svg\" alt=\"Open In Colab\"/></a>"
      ]
    },
    {
      "cell_type": "markdown",
      "metadata": {
        "id": "C1uvZsiT-tWA"
      },
      "source": [
        "## GPUが動作しているか調べる。"
      ]
    },
    {
      "cell_type": "code",
      "metadata": {
        "colab": {
          "base_uri": "https://localhost:8080/",
          "height": 35
        },
        "id": "5y2ZHnj1-26R",
        "outputId": "5611e434-77ac-4564-bc21-b913229b92db"
      },
      "source": [
        "# pythonコードで調べる\n",
        "import tensorflow as tf\n",
        "tf.test.gpu_device_name()"
      ],
      "execution_count": null,
      "outputs": [
        {
          "output_type": "execute_result",
          "data": {
            "application/vnd.google.colaboratory.intrinsic+json": {
              "type": "string"
            },
            "text/plain": [
              "'/device:GPU:0'"
            ]
          },
          "metadata": {
            "tags": []
          },
          "execution_count": 1
        }
      ]
    },
    {
      "cell_type": "code",
      "metadata": {
        "id": "SdzcitFp_Odk"
      },
      "source": [
        "# linuxコマンドでマシンスペックも見れる\n",
        "!cat /proc/cpuinfo"
      ],
      "execution_count": null,
      "outputs": []
    },
    {
      "cell_type": "code",
      "metadata": {
        "id": "2GcCkBPB_2-E"
      },
      "source": [
        "# 犬猫画像を集めるライブラリをインストール\n",
        "!pip install icrawler"
      ],
      "execution_count": null,
      "outputs": []
    },
    {
      "cell_type": "code",
      "metadata": {
        "id": "ostA5fjVKscJ"
      },
      "source": [
        "# どのライブラリが入っているか調べる\n",
        "!pip list"
      ],
      "execution_count": null,
      "outputs": []
    },
    {
      "cell_type": "code",
      "metadata": {
        "id": "FeUIhB4kSbHc"
      },
      "source": [
        "# カレントディレクトリ\n",
        "!pwd"
      ],
      "execution_count": null,
      "outputs": []
    },
    {
      "cell_type": "markdown",
      "metadata": {
        "id": "VDherGVdAKtb"
      },
      "source": [
        "## 画像収集する"
      ]
    },
    {
      "cell_type": "code",
      "metadata": {
        "id": "XlJ_w9RLATbo"
      },
      "source": [
        "from icrawler.builtin import BingImageCrawler\n",
        "\n",
        "# 猫の画像を100枚取得。ちょっと時間かかる\n",
        "crawler = BingImageCrawler(storage={\"root_dir\": \"cat\"})\n",
        "crawler.crawl(keyword=\"猫\", max_num=150)"
      ],
      "execution_count": null,
      "outputs": []
    },
    {
      "cell_type": "code",
      "metadata": {
        "id": "8Km7yik6BCYm"
      },
      "source": [
        "from icrawler.builtin import BingImageCrawler\n",
        "\n",
        "# 犬の画像を100枚取得。猫もそうだが１００枚集まっていないように見える\n",
        "crawler = BingImageCrawler(storage={\"root_dir\": \"bear\"})\n",
        "# crawler = BingImageCrawler(storage={\"root_dir\": \"dog\"})\n",
        "# crawler.crawl(keyword=\"犬\", max_num=150)\n",
        "crawler.crawl(keyword=\"熊\", max_num=10)"
      ],
      "execution_count": null,
      "outputs": []
    },
    {
      "cell_type": "code",
      "metadata": {
        "id": "eronSvjTBuk-"
      },
      "source": [
        "# サンプル表示\n",
        "from IPython.display import Image,display_jpeg\n",
        "# display_jpeg(Image(\"./cat/000002.jpg\"))\n",
        "display_jpeg(Image(\"./bear/000001.jpg\"))"
      ],
      "execution_count": null,
      "outputs": []
    },
    {
      "cell_type": "markdown",
      "metadata": {
        "id": "IQAVvtFjCszF"
      },
      "source": [
        "## データの前処理と画像分割"
      ]
    },
    {
      "cell_type": "code",
      "metadata": {
        "id": "WetsH7L4Cyv8"
      },
      "source": [
        "from PIL import Image\n",
        "import os, glob\n",
        "import numpy as np\n",
        "from PIL import ImageFile\n",
        "# from IPython.display import Image as im ,display_jpeg\n",
        "import matplotlib.pyplot as plt\n",
        "import matplotlib.image as mpimg\n",
        "\n",
        "# IOError: image file is truncated (0 bytes not processed)回避のため\n",
        "ImageFile.LOAD_TRUNCATED_IMAGES = True\n",
        "\n",
        "classes = [\"dog\", \"cat\"]\n",
        "num_classes = len(classes)\n",
        "image_size = 64\n",
        "# image_size = 128\n",
        "num_testdata = 25\n",
        "\n",
        "X_train = []\n",
        "X_test  = []\n",
        "y_train = []\n",
        "y_test  = []\n",
        "\n",
        "for index, classlabel in enumerate(classes):\n",
        "    photos_dir = \"./\" + classlabel\n",
        "    files = glob.glob(photos_dir + \"/*.jpg\")\n",
        "    for i, file in enumerate(files):\n",
        "        image = Image.open(file)\n",
        "        # display_jpeg(im(file))\n",
        "        image = image.convert(\"RGB\")\n",
        "        image = image.resize((image_size, image_size))\n",
        "        # img = mpimg.imread(‘sample.jpg’)\n",
        "        # imgplot = plt.imshow(image)\n",
        "        data = np.asarray(image)\n",
        "        if i < num_testdata:\n",
        "            X_test.append(data)\n",
        "            y_test.append(index)\n",
        "        else:\n",
        "\n",
        "            # angleに代入される値\n",
        "            # -20\n",
        "            # -15\n",
        "            # -10\n",
        "            #  -5\n",
        "            # 0\n",
        "            # 5\n",
        "            # 10\n",
        "            # 15\n",
        "            # 画像を5度ずつ回転\n",
        "            for angle in range(-20, 20, 5):\n",
        "\n",
        "                img_r = image.rotate(angle)\n",
        "                data = np.asarray(img_r)\n",
        "                X_train.append(data)\n",
        "                y_train.append(index)\n",
        "                # FLIP_LEFT_RIGHT　は 左右反転\n",
        "                img_trains = img_r.transpose(Image.FLIP_LEFT_RIGHT)\n",
        "                data = np.asarray(img_trains)\n",
        "                X_train.append(data)\n",
        "                y_train.append(index)\n",
        "\n",
        "X_train = np.array(X_train)\n",
        "X_test  = np.array(X_test)\n",
        "y_train = np.array(y_train)\n",
        "y_test  = np.array(y_test)\n",
        "\n",
        "xy = (X_train, X_test, y_train, y_test)\n",
        "np.save(\"./dog_cat.npy\", xy)"
      ],
      "execution_count": null,
      "outputs": []
    },
    {
      "cell_type": "code",
      "metadata": {
        "id": "b_gSxPaiDKKB"
      },
      "source": [
        "# カレント直下にdog_cat.npyというデータセットができたらしい\n",
        "!ls -la ./dog_cat.npy"
      ],
      "execution_count": null,
      "outputs": []
    },
    {
      "cell_type": "markdown",
      "metadata": {
        "id": "D8LF2kyVDds2"
      },
      "source": [
        "## 学習を行う。\n",
        "- 機械学習には学習と推論のフェーズがあり、まずは学習フェーズを行う。"
      ]
    },
    {
      "cell_type": "code",
      "metadata": {
        "id": "VvcelWbKDozr"
      },
      "source": [
        "from keras.models import Sequential\n",
        "from keras.layers import Conv2D, MaxPooling2D\n",
        "from keras.layers import Activation, Dropout, Flatten, Dense\n",
        "from keras.optimizers import RMSprop\n",
        "from keras.utils import np_utils\n",
        "import keras\n",
        "import numpy as np\n",
        "\n",
        "classes = [\"dog\", \"cat\"]\n",
        "num_classes = len(classes)\n",
        "# image_size = 128\n",
        "image_size = 64\n",
        "\n",
        "\"\"\"\n",
        "データを読み込む関数\n",
        "\"\"\"\n",
        "def load_data():\n",
        "    X_train, X_test, y_train, y_test = np.load(\"./dog_cat.npy\", allow_pickle=True)\n",
        "    # 入力データの各画素値を0-1の範囲で正規化(学習コストを下げるため)\n",
        "    X_train = X_train.astype(\"float\") / 255\n",
        "    X_test  = X_test.astype(\"float\") / 255\n",
        "    # to_categorical()にてラベルをone hot vector化\n",
        "    y_train = np_utils.to_categorical(y_train, num_classes)\n",
        "    y_test  = np_utils.to_categorical(y_test, num_classes)\n",
        "\n",
        "    return X_train, y_train, X_test, y_test\n",
        "\n",
        "\"\"\"\n",
        "モデルを学習する関数\n",
        "\"\"\"\n",
        "def train(X, y, X_test, y_test):\n",
        "    model = Sequential()\n",
        "\n",
        "    # Xは(1200, 64, 64, 3)\n",
        "    # X.shape[1:]とすることで、(64, 64, 3)となり、入力にすることが可能です。\n",
        "    model.add(Conv2D(32,(3,3), padding='same',input_shape=X.shape[1:]))\n",
        "    model.add(Activation('relu'))\n",
        "    model.add(Conv2D(32,(3,3)))\n",
        "    model.add(Activation('relu'))\n",
        "    model.add(MaxPooling2D(pool_size=(2,2)))\n",
        "    model.add(Dropout(0.1))\n",
        "\n",
        "    model.add(Conv2D(64,(3,3), padding='same'))\n",
        "    model.add(Activation('relu'))\n",
        "    model.add(Conv2D(64,(3,3)))\n",
        "    model.add(Activation('relu'))\n",
        "    model.add(MaxPooling2D(pool_size=(2,2)))\n",
        "    model.add(Dropout(0.25))\n",
        "\n",
        "    model.add(Flatten())\n",
        "    model.add(Dense(512))\n",
        "    model.add(Activation('relu'))\n",
        "    model.add(Dropout(0.45))\n",
        "    model.add(Dense(2))\n",
        "    model.add(Activation('softmax'))\n",
        "\n",
        "    # https://keras.io/ja/optimizers/\n",
        "    # 今回は、最適化アルゴリズムにRMSpropを利用\n",
        "    opt = RMSprop(lr=0.00005, decay=1e-6)\n",
        "    # https://keras.io/ja/models/sequential/\n",
        "    model.compile(loss='categorical_crossentropy',optimizer=opt,metrics=['accuracy'])\n",
        "    model.fit(X, y, batch_size=28, epochs=40)\n",
        "    # HDF5ファイルにKerasのモデルを保存\n",
        "    model.save('./cnn.h5')\n",
        "\n",
        "    return model\n",
        "\n",
        "\"\"\"\n",
        "メイン関数\n",
        "データの読み込みとモデルの学習を行います。\n",
        "\"\"\"\n",
        "def main():\n",
        "    # データの読み込み\n",
        "    X_train, y_train, X_test, y_test = load_data()\n",
        "\n",
        "    # モデルの学習\n",
        "    model = train(X_train, y_train, X_test, y_test)\n",
        "\n",
        "main()"
      ],
      "execution_count": null,
      "outputs": []
    },
    {
      "cell_type": "markdown",
      "metadata": {
        "id": "OdecVst7FC5w"
      },
      "source": [
        "## 推論フェーズ。犬か猫かを作ったモデルちゃんに答えてもらいます。"
      ]
    },
    {
      "cell_type": "code",
      "metadata": {
        "id": "j7VJv_utFINt"
      },
      "source": [
        "import keras\n",
        "import sys, os\n",
        "import numpy as np\n",
        "from keras.models import load_model\n",
        "from PIL import Image\n",
        "\n",
        "# imsize = (128, 128)\n",
        "imsize = (64, 64)\n",
        "\n",
        "\"\"\"\n",
        "dog1.jpgというファイル名の画像をGoogle Colab上にアップロードする方法は2通りあります。\n",
        "1つが、下記のコードを実行し画像をアップロードする方法\n",
        "from google.colab import files\n",
        "uploaded = files.upload()\n",
        "2つが、Colab左メニューの>アイコンを押して、目次、コード スニペット、ファイル\n",
        "の3つ表示されるますが、右のファイルタブから画像をアップロードする方法です。\n",
        "このファイルタブをクリックするとアップロードと更新の2つがありますが、\n",
        "アップロードを押すと画像をアップロードすることが可能です。\n",
        "\"\"\"\n",
        "\n",
        "# testpic     = \"./dog1.jpg\"\n",
        "# testpic     = \"./cat1.png\"\n",
        "testpic     = \"./dog2.jpg\" # やったぜこれは間違えた。猫みたいな犬の画像。猫といいよった。\n",
        "keras_param = \"./cnn.h5\"\n",
        "\n",
        "def load_image(path):\n",
        "    img = Image.open(path)\n",
        "    img = img.convert('RGB')\n",
        "    # 学習時に、(64, 64, 3)で学習したので、画像の縦・横は今回 変数imsizeの(64, 64)にリサイズします。\n",
        "    img = img.resize(imsize)\n",
        "    # 画像データをnumpy配列の形式に変更\n",
        "    img = np.asarray(img)\n",
        "    img = img / 255.0\n",
        "    return img\n",
        "\n",
        "model = load_model(keras_param)\n",
        "img = load_image(testpic)\n",
        "prd = model.predict(np.array([img]))\n",
        "print(prd) # 精度の表示\n",
        "prelabel = np.argmax(prd, axis=1)\n",
        "if prelabel == 0:\n",
        "    print(\">>> 犬\")\n",
        "elif prelabel == 1:\n",
        "    print(\">>> 猫\")"
      ],
      "execution_count": null,
      "outputs": []
    }
  ]
}