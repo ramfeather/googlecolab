{
  "nbformat": 4,
  "nbformat_minor": 0,
  "metadata": {
    "colab": {
      "name": "CNNお試し.ipynb",
      "provenance": [],
      "collapsed_sections": [
        "C1uvZsiT-tWA",
        "VDherGVdAKtb",
        "IQAVvtFjCszF"
      ],
      "authorship_tag": "ABX9TyOHcSxDaOod9C7ZjNuq2T8A",
      "include_colab_link": true
    },
    "kernelspec": {
      "name": "python3",
      "display_name": "Python 3"
    },
    "accelerator": "GPU"
  },
  "cells": [
    {
      "cell_type": "markdown",
      "metadata": {
        "id": "view-in-github",
        "colab_type": "text"
      },
      "source": [
        "<a href=\"https://colab.research.google.com/github/ramfeather/googlecolab/blob/trial-2021-03-14/CNN%E3%81%8A%E8%A9%A6%E3%81%97.ipynb\" target=\"_parent\"><img src=\"https://colab.research.google.com/assets/colab-badge.svg\" alt=\"Open In Colab\"/></a>"
      ]
    },
    {
      "cell_type": "markdown",
      "metadata": {
        "id": "C1uvZsiT-tWA"
      },
      "source": [
        "## GPUが動作しているか調べる。"
      ]
    },
    {
      "cell_type": "code",
      "metadata": {
        "colab": {
          "base_uri": "https://localhost:8080/",
          "height": 35
        },
        "id": "5y2ZHnj1-26R",
        "outputId": "32c8d5e0-a37c-4de8-8d0a-729ca3c39bad"
      },
      "source": [
        "# pythonコードで調べる\r\n",
        "import tensorflow as tf\r\n",
        "tf.test.gpu_device_name()"
      ],
      "execution_count": 1,
      "outputs": [
        {
          "output_type": "execute_result",
          "data": {
            "application/vnd.google.colaboratory.intrinsic+json": {
              "type": "string"
            },
            "text/plain": [
              "'/device:GPU:0'"
            ]
          },
          "metadata": {
            "tags": []
          },
          "execution_count": 1
        }
      ]
    },
    {
      "cell_type": "code",
      "metadata": {
        "id": "SdzcitFp_Odk"
      },
      "source": [
        "# linuxコマンドでマシンスペックも見れる\r\n",
        "!cat /proc/cpuinfo"
      ],
      "execution_count": null,
      "outputs": []
    },
    {
      "cell_type": "code",
      "metadata": {
        "id": "2GcCkBPB_2-E"
      },
      "source": [
        "# 犬猫画像を集めるライブラリをインストール\r\n",
        "!pip install icrawler"
      ],
      "execution_count": null,
      "outputs": []
    },
    {
      "cell_type": "markdown",
      "metadata": {
        "id": "VDherGVdAKtb"
      },
      "source": [
        "## 画像収集する"
      ]
    },
    {
      "cell_type": "code",
      "metadata": {
        "id": "XlJ_w9RLATbo"
      },
      "source": [
        "from icrawler.builtin import BingImageCrawler\r\n",
        "\r\n",
        "# 猫の画像を100枚取得。ちょっと時間かかる\r\n",
        "crawler = BingImageCrawler(storage={\"root_dir\": \"cat\"})\r\n",
        "crawler.crawl(keyword=\"猫\", max_num=100)"
      ],
      "execution_count": null,
      "outputs": []
    },
    {
      "cell_type": "code",
      "metadata": {
        "id": "8Km7yik6BCYm"
      },
      "source": [
        "from icrawler.builtin import BingImageCrawler\r\n",
        "\r\n",
        "# 犬の画像を100枚取得。猫もそうだが１００枚集まっていないように見える\r\n",
        "crawler = BingImageCrawler(storage={\"root_dir\": \"dog\"})\r\n",
        "crawler.crawl(keyword=\"犬\", max_num=100)"
      ],
      "execution_count": null,
      "outputs": []
    },
    {
      "cell_type": "code",
      "metadata": {
        "id": "eronSvjTBuk-"
      },
      "source": [
        "# サンプル表示\r\n",
        "from IPython.display import Image,display_jpeg\r\n",
        "display_jpeg(Image(\"./cat/000001.jpg\"))"
      ],
      "execution_count": null,
      "outputs": []
    },
    {
      "cell_type": "markdown",
      "metadata": {
        "id": "IQAVvtFjCszF"
      },
      "source": [
        "## データの前処理と画像分割"
      ]
    },
    {
      "cell_type": "code",
      "metadata": {
        "colab": {
          "base_uri": "https://localhost:8080/"
        },
        "id": "WetsH7L4Cyv8",
        "outputId": "d1e23edf-2e34-4ec1-9fb9-3305387bdbeb"
      },
      "source": [
        "from PIL import Image\r\n",
        "import os, glob\r\n",
        "import numpy as np\r\n",
        "from PIL import ImageFile\r\n",
        "# IOError: image file is truncated (0 bytes not processed)回避のため\r\n",
        "ImageFile.LOAD_TRUNCATED_IMAGES = True\r\n",
        "\r\n",
        "classes = [\"dog\", \"cat\"]\r\n",
        "num_classes = len(classes)\r\n",
        "image_size = 64\r\n",
        "num_testdata = 25\r\n",
        "\r\n",
        "X_train = []\r\n",
        "X_test  = []\r\n",
        "y_train = []\r\n",
        "y_test  = []\r\n",
        "\r\n",
        "for index, classlabel in enumerate(classes):\r\n",
        "    photos_dir = \"./\" + classlabel\r\n",
        "    files = glob.glob(photos_dir + \"/*.jpg\")\r\n",
        "    for i, file in enumerate(files):\r\n",
        "        image = Image.open(file)\r\n",
        "        image = image.convert(\"RGB\")\r\n",
        "        image = image.resize((image_size, image_size))\r\n",
        "        data = np.asarray(image)\r\n",
        "        if i < num_testdata:\r\n",
        "            X_test.append(data)\r\n",
        "            y_test.append(index)\r\n",
        "        else:\r\n",
        "\r\n",
        "            # angleに代入される値\r\n",
        "            # -20\r\n",
        "            # -15\r\n",
        "            # -10\r\n",
        "            #  -5\r\n",
        "            # 0\r\n",
        "            # 5\r\n",
        "            # 10\r\n",
        "            # 15\r\n",
        "            # 画像を5度ずつ回転\r\n",
        "            for angle in range(-20, 20, 5):\r\n",
        "\r\n",
        "                img_r = image.rotate(angle)\r\n",
        "                data = np.asarray(img_r)\r\n",
        "                X_train.append(data)\r\n",
        "                y_train.append(index)\r\n",
        "                # FLIP_LEFT_RIGHT　は 左右反転\r\n",
        "                img_trains = img_r.transpose(Image.FLIP_LEFT_RIGHT)\r\n",
        "                data = np.asarray(img_trains)\r\n",
        "                X_train.append(data)\r\n",
        "                y_train.append(index)\r\n",
        "\r\n",
        "X_train = np.array(X_train)\r\n",
        "X_test  = np.array(X_test)\r\n",
        "y_train = np.array(y_train)\r\n",
        "y_test  = np.array(y_test)\r\n",
        "\r\n",
        "xy = (X_train, X_test, y_train, y_test)\r\n",
        "np.save(\"./dog_cat.npy\", xy)"
      ],
      "execution_count": 12,
      "outputs": [
        {
          "output_type": "stream",
          "text": [
            "/usr/local/lib/python3.7/dist-packages/numpy/core/_asarray.py:136: VisibleDeprecationWarning: Creating an ndarray from ragged nested sequences (which is a list-or-tuple of lists-or-tuples-or ndarrays with different lengths or shapes) is deprecated. If you meant to do this, you must specify 'dtype=object' when creating the ndarray\n",
            "  return array(a, dtype, copy=False, order=order, subok=True)\n"
          ],
          "name": "stderr"
        }
      ]
    },
    {
      "cell_type": "code",
      "metadata": {
        "colab": {
          "base_uri": "https://localhost:8080/"
        },
        "id": "b_gSxPaiDKKB",
        "outputId": "ef7a751f-ba97-4e02-c846-636382dbe491"
      },
      "source": [
        "# カレント直下にdog_cat.npyというデータセットができたらしい\r\n",
        "!ls -la ./dog_cat.npy"
      ],
      "execution_count": 13,
      "outputs": [
        {
          "output_type": "stream",
          "text": [
            "-rw-r--r-- 1 root root 11042350 Mar 13 14:44 ./dog_cat.npy\n"
          ],
          "name": "stdout"
        }
      ]
    },
    {
      "cell_type": "markdown",
      "metadata": {
        "id": "D8LF2kyVDds2"
      },
      "source": [
        "## 学習を行う。\r\n",
        "- 機械学習には学習と推論のフェーズがあり、まずは学習フェーズを行う。"
      ]
    },
    {
      "cell_type": "code",
      "metadata": {
        "id": "VvcelWbKDozr"
      },
      "source": [
        "from keras.models import Sequential\r\n",
        "from keras.layers import Conv2D, MaxPooling2D\r\n",
        "from keras.layers import Activation, Dropout, Flatten, Dense\r\n",
        "from keras.optimizers import RMSprop\r\n",
        "from keras.utils import np_utils\r\n",
        "import keras\r\n",
        "import numpy as np\r\n",
        "\r\n",
        "classes = [\"dog\", \"cat\"]\r\n",
        "num_classes = len(classes)\r\n",
        "image_size = 64\r\n",
        "\r\n",
        "\"\"\"\r\n",
        "データを読み込む関数\r\n",
        "\"\"\"\r\n",
        "def load_data():\r\n",
        "    X_train, X_test, y_train, y_test = np.load(\"./dog_cat.npy\", allow_pickle=True)\r\n",
        "    # 入力データの各画素値を0-1の範囲で正規化(学習コストを下げるため)\r\n",
        "    X_train = X_train.astype(\"float\") / 255\r\n",
        "    X_test  = X_test.astype(\"float\") / 255\r\n",
        "    # to_categorical()にてラベルをone hot vector化\r\n",
        "    y_train = np_utils.to_categorical(y_train, num_classes)\r\n",
        "    y_test  = np_utils.to_categorical(y_test, num_classes)\r\n",
        "\r\n",
        "    return X_train, y_train, X_test, y_test\r\n",
        "\r\n",
        "\"\"\"\r\n",
        "モデルを学習する関数\r\n",
        "\"\"\"\r\n",
        "def train(X, y, X_test, y_test):\r\n",
        "    model = Sequential()\r\n",
        "\r\n",
        "    # Xは(1200, 64, 64, 3)\r\n",
        "    # X.shape[1:]とすることで、(64, 64, 3)となり、入力にすることが可能です。\r\n",
        "    model.add(Conv2D(32,(3,3), padding='same',input_shape=X.shape[1:]))\r\n",
        "    model.add(Activation('relu'))\r\n",
        "    model.add(Conv2D(32,(3,3)))\r\n",
        "    model.add(Activation('relu'))\r\n",
        "    model.add(MaxPooling2D(pool_size=(2,2)))\r\n",
        "    model.add(Dropout(0.1))\r\n",
        "\r\n",
        "    model.add(Conv2D(64,(3,3), padding='same'))\r\n",
        "    model.add(Activation('relu'))\r\n",
        "    model.add(Conv2D(64,(3,3)))\r\n",
        "    model.add(Activation('relu'))\r\n",
        "    model.add(MaxPooling2D(pool_size=(2,2)))\r\n",
        "    model.add(Dropout(0.25))\r\n",
        "\r\n",
        "    model.add(Flatten())\r\n",
        "    model.add(Dense(512))\r\n",
        "    model.add(Activation('relu'))\r\n",
        "    model.add(Dropout(0.45))\r\n",
        "    model.add(Dense(2))\r\n",
        "    model.add(Activation('softmax'))\r\n",
        "\r\n",
        "    # https://keras.io/ja/optimizers/\r\n",
        "    # 今回は、最適化アルゴリズムにRMSpropを利用\r\n",
        "    opt = RMSprop(lr=0.00005, decay=1e-6)\r\n",
        "    # https://keras.io/ja/models/sequential/\r\n",
        "    model.compile(loss='categorical_crossentropy',optimizer=opt,metrics=['accuracy'])\r\n",
        "    model.fit(X, y, batch_size=28, epochs=40)\r\n",
        "    # HDF5ファイルにKerasのモデルを保存\r\n",
        "    model.save('./cnn.h5')\r\n",
        "\r\n",
        "    return model\r\n",
        "\r\n",
        "\"\"\"\r\n",
        "メイン関数\r\n",
        "データの読み込みとモデルの学習を行います。\r\n",
        "\"\"\"\r\n",
        "def main():\r\n",
        "    # データの読み込み\r\n",
        "    X_train, y_train, X_test, y_test = load_data()\r\n",
        "\r\n",
        "    # モデルの学習\r\n",
        "    model = train(X_train, y_train, X_test, y_test)\r\n",
        "\r\n",
        "main()"
      ],
      "execution_count": null,
      "outputs": []
    },
    {
      "cell_type": "markdown",
      "metadata": {
        "id": "OdecVst7FC5w"
      },
      "source": [
        "## 推論フェーズ。犬か猫かを作ったモデルちゃんに答えてもらいます。"
      ]
    },
    {
      "cell_type": "code",
      "metadata": {
        "colab": {
          "base_uri": "https://localhost:8080/"
        },
        "id": "j7VJv_utFINt",
        "outputId": "333cd7fc-8b39-43b8-cf98-77384be0f612"
      },
      "source": [
        "import keras\r\n",
        "import sys, os\r\n",
        "import numpy as np\r\n",
        "from keras.models import load_model\r\n",
        "\r\n",
        "imsize = (64, 64)\r\n",
        "\r\n",
        "\"\"\"\r\n",
        "dog1.jpgというファイル名の画像をGoogle Colab上にアップロードする方法は2通りあります。\r\n",
        "1つが、下記のコードを実行し画像をアップロードする方法\r\n",
        "from google.colab import files\r\n",
        "uploaded = files.upload()\r\n",
        "2つが、Colab左メニューの>アイコンを押して、目次、コード スニペット、ファイル\r\n",
        "の3つ表示されるますが、右のファイルタブから画像をアップロードする方法です。\r\n",
        "このファイルタブをクリックするとアップロードと更新の2つがありますが、\r\n",
        "アップロードを押すと画像をアップロードすることが可能です。\r\n",
        "\"\"\"\r\n",
        "\r\n",
        "# testpic     = \"./dog1.jpg\"\r\n",
        "# testpic     = \"./cat1.png\"\r\n",
        "testpic     = \"./dog2.jpg\" # やったぜこれは間違えた。猫みたいな犬の画像。猫といいよった。\r\n",
        "keras_param = \"./cnn.h5\"\r\n",
        "\r\n",
        "def load_image(path):\r\n",
        "    img = Image.open(path)\r\n",
        "    img = img.convert('RGB')\r\n",
        "    # 学習時に、(64, 64, 3)で学習したので、画像の縦・横は今回 変数imsizeの(64, 64)にリサイズします。\r\n",
        "    img = img.resize(imsize)\r\n",
        "    # 画像データをnumpy配列の形式に変更\r\n",
        "    img = np.asarray(img)\r\n",
        "    img = img / 255.0\r\n",
        "    return img\r\n",
        "\r\n",
        "model = load_model(keras_param)\r\n",
        "img = load_image(testpic)\r\n",
        "prd = model.predict(np.array([img]))\r\n",
        "print(prd) # 精度の表示\r\n",
        "prelabel = np.argmax(prd, axis=1)\r\n",
        "if prelabel == 0:\r\n",
        "    print(\">>> 犬\")\r\n",
        "elif prelabel == 1:\r\n",
        "    print(\">>> 猫\")"
      ],
      "execution_count": 18,
      "outputs": [
        {
          "output_type": "stream",
          "text": [
            "[[0.29772612 0.70227385]]\n",
            ">>> 猫\n"
          ],
          "name": "stdout"
        }
      ]
    }
  ]
}